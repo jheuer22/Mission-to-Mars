{
 "cells": [
  {
   "cell_type": "code",
   "execution_count": 68,
   "id": "74bbc3d1-3669-49d8-bd36-40790450f3ed",
   "metadata": {},
   "outputs": [],
   "source": [
    "from splinter import Browser\n",
    "from bs4 import BeautifulSoup as bs\n",
    "import time\n",
    "from webdriver_manager.chrome import ChromeDriverManager\n",
    "\n",
    "\n",
    "def init_browser():\n",
    "    executable_path = {'executable_path': ChromeDriverManager().install()}\n",
    "    return Browser(\"chrome\", **executable_path, headless=False)\n"
   ]
  },
  {
   "cell_type": "code",
   "execution_count": 69,
   "id": "123e4d79-cc2b-4c00-9d94-864c36d56ff9",
   "metadata": {},
   "outputs": [
    {
     "name": "stderr",
     "output_type": "stream",
     "text": [
      "\n",
      "\n",
      "====== WebDriver manager ======\n",
      "Current google-chrome version is 96.0.4664\n",
      "Get LATEST chromedriver version for 96.0.4664 google-chrome\n",
      "Driver [/Users/juliaheuer/.wdm/drivers/chromedriver/mac64/96.0.4664.45/chromedriver] found in cache\n"
     ]
    }
   ],
   "source": [
    "browser=init_browser()"
   ]
  },
  {
   "cell_type": "code",
   "execution_count": 70,
   "id": "c16e834c-274a-4463-8658-7cc345f8e1bf",
   "metadata": {},
   "outputs": [],
   "source": [
    "# 1. Use browser to visit the URL \n",
    "url = 'https://marshemispheres.com/cerberus.html'\n",
    "\n",
    "browser.visit(url)\n",
    "time.sleep(1)"
   ]
  },
  {
   "cell_type": "code",
   "execution_count": 43,
   "id": "2f2ff1ea-8126-42f8-be8c-03cab4293ccc",
   "metadata": {},
   "outputs": [],
   "source": [
    "# Scrape page into Soup\n",
    "html = browser.html\n",
    "soup = bs(html, \"html.parser\")"
   ]
  },
  {
   "cell_type": "code",
   "execution_count": 5,
   "id": "45d512ea-7d6a-487e-bf88-de287db1b969",
   "metadata": {},
   "outputs": [
    {
     "data": {
      "text/plain": [
       "<img alt=\"Schiaparelli Hemisphere Enhanced thumbnail\" class=\"thumb\" src=\"images/08eac6e22c07fb1fe72223a79252de20_schiaparelli_enhanced.tif_thumb.png\"/>"
      ]
     },
     "execution_count": 5,
     "metadata": {},
     "output_type": "execute_result"
    }
   ],
   "source": [
    "# #find code with the 1st mars image in the html text \n",
    "# soup.find('img', {'class': 'thumb', 'alt': 'Schiaparelli Hemisphere Enhanced thumbnail'})"
   ]
  },
  {
   "cell_type": "code",
   "execution_count": 6,
   "id": "166df609-c18a-40b8-92ea-d9259d35cea0",
   "metadata": {},
   "outputs": [
    {
     "data": {
      "text/plain": [
       "'images/08eac6e22c07fb1fe72223a79252de20_schiaparelli_enhanced.tif_thumb.png'"
      ]
     },
     "execution_count": 6,
     "metadata": {},
     "output_type": "execute_result"
    }
   ],
   "source": [
    "# #get just the image as 'src' from the line of html \n",
    "# soup.find('img', {'class': 'thumb', 'alt': 'Schiaparelli Hemisphere Enhanced thumbnail'})['src']"
   ]
  },
  {
   "cell_type": "code",
   "execution_count": 56,
   "id": "64253dab-1378-4fbd-a7e4-6d8ec175b88f",
   "metadata": {},
   "outputs": [
    {
     "data": {
      "text/plain": [
       "'images/full.jpg'"
      ]
     },
     "execution_count": 56,
     "metadata": {},
     "output_type": "execute_result"
    }
   ],
   "source": [
    "soup.find('li').a.get('href')"
   ]
  },
  {
   "cell_type": "code",
   "execution_count": 57,
   "id": "80a08e90-f5e2-4c27-811b-b4b32b92a5d3",
   "metadata": {},
   "outputs": [],
   "source": [
    "image_URL=soup.find('li').a.get('href')"
   ]
  },
  {
   "cell_type": "code",
   "execution_count": 58,
   "id": "9ed66559-6ed4-456e-bd02-cd7c0361aa36",
   "metadata": {},
   "outputs": [
    {
     "data": {
      "text/plain": [
       "'images/full.jpg'"
      ]
     },
     "execution_count": 58,
     "metadata": {},
     "output_type": "execute_result"
    }
   ],
   "source": [
    "image_URL"
   ]
  },
  {
   "cell_type": "code",
   "execution_count": 62,
   "id": "6b1c7181-1142-43bc-9e35-951317ee034e",
   "metadata": {},
   "outputs": [
    {
     "data": {
      "text/plain": [
       "'Cerberus Hemisphere Enhanced'"
      ]
     },
     "execution_count": 62,
     "metadata": {},
     "output_type": "execute_result"
    }
   ],
   "source": [
    "soup.find('h2', 'title').text"
   ]
  },
  {
   "cell_type": "code",
   "execution_count": 65,
   "id": "9e179381-f457-4345-add2-916c25398a12",
   "metadata": {},
   "outputs": [],
   "source": [
    "image_title=soup.find('h2', 'title').text"
   ]
  },
  {
   "cell_type": "code",
   "execution_count": 64,
   "id": "744fd9af-084a-4211-a01f-1f7c13bf13c3",
   "metadata": {},
   "outputs": [
    {
     "data": {
      "text/plain": [
       "'Cerberus Hemisphere Enhanced'"
      ]
     },
     "execution_count": 64,
     "metadata": {},
     "output_type": "execute_result"
    }
   ],
   "source": [
    "image_title"
   ]
  },
  {
   "cell_type": "code",
   "execution_count": 66,
   "id": "2b76ee04-cd6e-47a9-b232-ebe480fde032",
   "metadata": {},
   "outputs": [
    {
     "data": {
      "text/plain": [
       "[<h3>Download</h3>, <h3>Back</h3>]"
      ]
     },
     "execution_count": 66,
     "metadata": {},
     "output_type": "execute_result"
    }
   ],
   "source": [
    "soup.find_all('h3')"
   ]
  },
  {
   "cell_type": "code",
   "execution_count": 94,
   "id": "1d4be758-9da5-4ef0-b458-d371293ee6c8",
   "metadata": {},
   "outputs": [
    {
     "data": {
      "text/plain": [
       "<splinter.element_list.ElementList at 0x7fc5abae0160>"
      ]
     },
     "execution_count": 94,
     "metadata": {},
     "output_type": "execute_result"
    }
   ],
   "source": [
    "\n",
    "\n",
    "url = 'https://marshemispheres.com/'\n",
    "\n",
    "browser.visit(url)\n",
    "\n",
    "html = browser.html\n",
    "soup = bs(html, \"html.parser\")\n",
    "\n",
    "\n",
    "time.sleep(1)# full_image_elem = browser.find_by_tag('button')[1]\n",
    "# full_image_elem.click()\n",
    "browser.find_by_xpath('//*[@id=\"product-section\"]/div[2]/div[1]/a')"
   ]
  },
  {
   "cell_type": "code",
   "execution_count": 80,
   "id": "c598b716-3934-4e0e-922f-9d22b59653b8",
   "metadata": {},
   "outputs": [
    {
     "data": {
      "text/plain": [
       "['__class__',\n",
       " '__delattr__',\n",
       " '__dict__',\n",
       " '__dir__',\n",
       " '__doc__',\n",
       " '__enter__',\n",
       " '__eq__',\n",
       " '__exit__',\n",
       " '__format__',\n",
       " '__ge__',\n",
       " '__getattribute__',\n",
       " '__gt__',\n",
       " '__hash__',\n",
       " '__init__',\n",
       " '__init_subclass__',\n",
       " '__le__',\n",
       " '__lt__',\n",
       " '__module__',\n",
       " '__ne__',\n",
       " '__new__',\n",
       " '__reduce__',\n",
       " '__reduce_ex__',\n",
       " '__repr__',\n",
       " '__setattr__',\n",
       " '__sizeof__',\n",
       " '__str__',\n",
       " '__subclasshook__',\n",
       " '__weakref__',\n",
       " '_cookie_manager',\n",
       " 'attach_file',\n",
       " 'back',\n",
       " 'check',\n",
       " 'choose',\n",
       " 'click_link_by_href',\n",
       " 'click_link_by_id',\n",
       " 'click_link_by_partial_href',\n",
       " 'click_link_by_partial_text',\n",
       " 'click_link_by_text',\n",
       " 'cookies',\n",
       " 'driver',\n",
       " 'driver_name',\n",
       " 'element_class',\n",
       " 'evaluate_script',\n",
       " 'execute_script',\n",
       " 'fill',\n",
       " 'fill_form',\n",
       " 'find_by',\n",
       " 'find_by_css',\n",
       " 'find_by_id',\n",
       " 'find_by_name',\n",
       " 'find_by_tag',\n",
       " 'find_by_text',\n",
       " 'find_by_value',\n",
       " 'find_by_xpath',\n",
       " 'find_link_by_href',\n",
       " 'find_link_by_partial_href',\n",
       " 'find_link_by_partial_text',\n",
       " 'find_link_by_text',\n",
       " 'find_option_by_text',\n",
       " 'find_option_by_value',\n",
       " 'forward',\n",
       " 'full_screen',\n",
       " 'get_alert',\n",
       " 'get_iframe',\n",
       " 'html',\n",
       " 'html_snapshot',\n",
       " 'is_element_not_present',\n",
       " 'is_element_not_present_by_css',\n",
       " 'is_element_not_present_by_id',\n",
       " 'is_element_not_present_by_name',\n",
       " 'is_element_not_present_by_tag',\n",
       " 'is_element_not_present_by_text',\n",
       " 'is_element_not_present_by_value',\n",
       " 'is_element_not_present_by_xpath',\n",
       " 'is_element_not_visible',\n",
       " 'is_element_not_visible_by_css',\n",
       " 'is_element_not_visible_by_xpath',\n",
       " 'is_element_present',\n",
       " 'is_element_present_by_css',\n",
       " 'is_element_present_by_id',\n",
       " 'is_element_present_by_name',\n",
       " 'is_element_present_by_tag',\n",
       " 'is_element_present_by_text',\n",
       " 'is_element_present_by_value',\n",
       " 'is_element_present_by_xpath',\n",
       " 'is_element_visible',\n",
       " 'is_element_visible_by_css',\n",
       " 'is_element_visible_by_xpath',\n",
       " 'is_text_not_present',\n",
       " 'is_text_present',\n",
       " 'links',\n",
       " 'new_tab',\n",
       " 'quit',\n",
       " 'recover_screen',\n",
       " 'reload',\n",
       " 'screenshot',\n",
       " 'select',\n",
       " 'select_by_text',\n",
       " 'status_code',\n",
       " 'title',\n",
       " 'type',\n",
       " 'uncheck',\n",
       " 'url',\n",
       " 'visit',\n",
       " 'wait_time',\n",
       " 'windows']"
      ]
     },
     "execution_count": 80,
     "metadata": {},
     "output_type": "execute_result"
    }
   ],
   "source": [
    "dir(browser)\n"
   ]
  },
  {
   "cell_type": "code",
   "execution_count": 95,
   "id": "c2a3dbc0-971e-48d4-905a-ff6d48051922",
   "metadata": {},
   "outputs": [],
   "source": [
    "# 5. Quit the browser\n",
    "browser.quit()"
   ]
  },
  {
   "cell_type": "code",
   "execution_count": null,
   "id": "c5605c82-cc1a-4ce8-ae2a-44f389558911",
   "metadata": {},
   "outputs": [],
   "source": []
  }
 ],
 "metadata": {
  "kernelspec": {
   "display_name": "PythonData",
   "language": "python",
   "name": "pythondata"
  },
  "language_info": {
   "codemirror_mode": {
    "name": "ipython",
    "version": 3
   },
   "file_extension": ".py",
   "mimetype": "text/x-python",
   "name": "python",
   "nbconvert_exporter": "python",
   "pygments_lexer": "ipython3",
   "version": "3.8.8"
  }
 },
 "nbformat": 4,
 "nbformat_minor": 5
}
